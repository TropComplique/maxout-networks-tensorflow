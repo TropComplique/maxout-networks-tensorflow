{
 "cells": [
  {
   "cell_type": "code",
   "execution_count": 1,
   "metadata": {
    "collapsed": true
   },
   "outputs": [],
   "source": [
    "%load_ext autoreload\n",
    "%autoreload 2"
   ]
  },
  {
   "cell_type": "code",
   "execution_count": 2,
   "metadata": {
    "collapsed": true
   },
   "outputs": [],
   "source": [
    "import numpy as np\n",
    "import pandas as pd\n",
    "import tensorflow as tf\n",
    "\n",
    "import sys\n",
    "sys.path.append('src/')\n",
    "from get_network import get_maxout_network\n",
    "from training_utils import train\n",
    "\n",
    "from sklearn.preprocessing import OneHotEncoder\n",
    "from sklearn.model_selection import train_test_split\n",
    "\n",
    "import matplotlib.pyplot as plt\n",
    "%matplotlib inline"
   ]
  },
  {
   "cell_type": "markdown",
   "metadata": {},
   "source": [
    "# Load data"
   ]
  },
  {
   "cell_type": "code",
   "execution_count": 3,
   "metadata": {
    "collapsed": true
   },
   "outputs": [],
   "source": [
    "data_dir = '/home/dan/data/cover/'"
   ]
  },
  {
   "cell_type": "code",
   "execution_count": 4,
   "metadata": {
    "collapsed": true
   },
   "outputs": [],
   "source": [
    "D = pd.read_csv(data_dir + 'train.csv')\n",
    "D.drop('Id', axis=1, inplace=True)\n",
    "all_vars = list(D.columns[:-1])\n",
    "\n",
    "num_vars = [\n",
    "    'Elevation', 'Aspect', 'Slope',\n",
    "    'Horizontal_Distance_To_Hydrology', 'Vertical_Distance_To_Hydrology',\n",
    "    'Horizontal_Distance_To_Roadways', 'Hillshade_9am', 'Hillshade_Noon',\n",
    "    'Hillshade_3pm', 'Horizontal_Distance_To_Fire_Points'\n",
    "]\n",
    "\n",
    "D[num_vars] = (D[num_vars] - D[num_vars].mean())/D[num_vars].std()"
   ]
  },
  {
   "cell_type": "code",
   "execution_count": 5,
   "metadata": {},
   "outputs": [
    {
     "name": "stdout",
     "output_type": "stream",
     "text": [
      "13608 1512\n"
     ]
    }
   ],
   "source": [
    "X = D[all_vars].astype('float32').as_matrix()\n",
    "Y = D['Cover_Type'].astype('float32').as_matrix()\n",
    "Y = Y.reshape(-1, 1)\n",
    "\n",
    "ohe = OneHotEncoder(sparse=False, dtype='float32')\n",
    "Y = ohe.fit_transform(Y)\n",
    "\n",
    "X_train, X_val, Y_train, Y_val = train_test_split(X, Y, test_size=0.1)\n",
    "\n",
    "# number of samples in each set\n",
    "print(len(X_train), len(X_val))"
   ]
  },
  {
   "cell_type": "code",
   "execution_count": 6,
   "metadata": {},
   "outputs": [
    {
     "name": "stdout",
     "output_type": "stream",
     "text": [
      "54 7\n"
     ]
    }
   ],
   "source": [
    "# number of features and number of classes\n",
    "print(X_train.shape[1], Y_train.shape[1])"
   ]
  },
  {
   "cell_type": "markdown",
   "metadata": {},
   "source": [
    "# Train network"
   ]
  },
  {
   "cell_type": "code",
   "execution_count": 7,
   "metadata": {
    "collapsed": true
   },
   "outputs": [],
   "source": [
    "graph, ops = get_maxout_network(\n",
    "    architecture=[54, (50, 3), (50, 3), (50, 3), 7], \n",
    "    dropout=[0.2, 0.5, 0.5, 0.1],\n",
    "    optimizer=tf.train.AdamOptimizer(1e-3), weight_decay=1e-6\n",
    ")"
   ]
  },
  {
   "cell_type": "code",
   "execution_count": 8,
   "metadata": {},
   "outputs": [
    {
     "name": "stdout",
     "output_type": "stream",
     "text": [
      "  1      1.488 1.087   0.381 0.591   3.649\n",
      "  2      1.122 0.893   0.529 0.662   3.052\n",
      "  3      1.029 0.825   0.568 0.665   2.960\n",
      "  4      0.982 0.794   0.588 0.670   2.913\n",
      "  5      0.960 0.760   0.608 0.688   2.956\n",
      "  6      0.931 0.747   0.618 0.686   2.835\n",
      "  7      0.921 0.725   0.625 0.698   2.872\n",
      "  8      0.903 0.706   0.635 0.708   2.843\n",
      "  9      0.875 0.717   0.645 0.697   2.897\n",
      "  10      0.866 0.689   0.648 0.704   2.875\n",
      "  11      0.869 0.682   0.644 0.715   2.842\n",
      "  12      0.864 0.692   0.649 0.706   2.850\n",
      "  13      0.855 0.673   0.648 0.709   2.799\n",
      "  14      0.849 0.657   0.654 0.734   2.904\n",
      "  15      0.842 0.666   0.660 0.731   2.977\n",
      "  16      0.841 0.661   0.655 0.735   2.928\n",
      "  17      0.831 0.657   0.662 0.728   2.918\n",
      "  18      0.834 0.654   0.663 0.727   2.850\n",
      "  19      0.821 0.660   0.667 0.732   2.820\n",
      "  20      0.814 0.658   0.669 0.727   2.838\n"
     ]
    }
   ],
   "source": [
    "losses, is_early_stopped = train(\n",
    "    0, graph, ops, \n",
    "    X_train, Y_train, X_val, Y_val,\n",
    "    batch_size=64, num_epochs=20, steps_per_epoch=400, \n",
    "    validation_steps=80, patience=100\n",
    ")\n",
    "\n",
    "# (first value: train, second value: val)\n",
    "# epoch  logloss       accuracy      time "
   ]
  },
  {
   "cell_type": "code",
   "execution_count": 9,
   "metadata": {},
   "outputs": [
    {
     "data": {
      "image/png": "[encoded data removed]",
      "text/plain": [
       "<matplotlib.figure.Figure at 0x7f1b36261ef0>"
      ]
     },
     "metadata": {},
     "output_type": "display_data"
    }
   ],
   "source": [
    "plt.plot([x[1] for x in losses], label='train');\n",
    "plt.plot([x[2] for x in losses], label='val');\n",
    "plt.legend();\n",
    "plt.xlabel('epoch');\n",
    "plt.ylabel('loss');"
   ]
  },
  {
   "cell_type": "code",
   "execution_count": 10,
   "metadata": {},
   "outputs": [
    {
     "data": {
      "image/png": "[encoded data removed]",
      "text/plain": [
       "<matplotlib.figure.Figure at 0x7f1b34048160>"
      ]
     },
     "metadata": {},
     "output_type": "display_data"
    }
   ],
   "source": [
    "plt.plot([x[3] for x in losses], label='train');\n",
    "plt.plot([x[4] for x in losses], label='val');\n",
    "plt.legend();\n",
    "plt.xlabel('epoch');\n",
    "plt.ylabel('accuracy');"
   ]
  }
 ],
 "metadata": {
  "kernelspec": {
   "display_name": "Python 3",
   "language": "python",
   "name": "python3"
  },
  "language_info": {
   "codemirror_mode": {
    "name": "ipython",
    "version": 3
   },
   "file_extension": ".py",
   "mimetype": "text/x-python",
   "name": "python",
   "nbconvert_exporter": "python",
   "pygments_lexer": "ipython3",
   "version": "3.6.2"
  }
 },
 "nbformat": 4,
 "nbformat_minor": 2
}
